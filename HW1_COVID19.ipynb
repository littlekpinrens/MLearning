{
  "nbformat": 4,
  "nbformat_minor": 0,
  "metadata": {
    "colab": {
      "provenance": [],
      "authorship_tag": "ABX9TyPpz7bgD2mxxkcCvCfYUeCt",
      "include_colab_link": true
    },
    "kernelspec": {
      "name": "python3",
      "display_name": "Python 3"
    },
    "language_info": {
      "name": "python"
    }
  },
  "cells": [
    {
      "cell_type": "markdown",
      "metadata": {
        "id": "view-in-github",
        "colab_type": "text"
      },
      "source": [
        "<a href=\"https://colab.research.google.com/github/littlekpinrens/MLearning/blob/main/HW1_COVID19.ipynb\" target=\"_parent\"><img src=\"https://colab.research.google.com/assets/colab-badge.svg\" alt=\"Open In Colab\"/></a>"
      ]
    },
    {
      "cell_type": "markdown",
      "source": [
        "# **Homework 1: COVID-19 Cases Prediction (Regression)**"
      ],
      "metadata": {
        "id": "tYhhRejfZGFs"
      }
    },
    {
      "cell_type": "markdown",
      "source": [
        "Objectives:\n",
        "* Solve a regression problem with deep neural networks (DNN).\n",
        "* Understand basic DNN training tips.\n",
        "* Familiarize yourself with PyTorch.\n",
        "\n",
        "If you have any questions, please contact the TAs via TA hours, NTU COOL, or email to mlta-2022-spring@googlegroups.com"
      ],
      "metadata": {
        "id": "V57zhcTp1Xxb"
      }
    },
    {
      "cell_type": "code",
      "execution_count": null,
      "metadata": {
        "id": "A7QyWy65hccc"
      },
      "outputs": [],
      "source": [
        "!gdown --id '1kLSW_-cW2Huj7bh84YTdimGBOJaODiOS' --output covid.train.csv\n",
        "!gdown --id '1iiI5qROrAhZn-o4FPqsE97bMzDEFvIdg' --output covid.test.csv"
      ]
    },
    {
      "cell_type": "markdown",
      "metadata": {
        "id": "igqIMEgu64-F"
      },
      "source": [
        "# Import packages"
      ]
    },
    {
      "cell_type": "code",
      "source": [
        "import math\n",
        "import numpy as np\n",
        "\n",
        "#reading/writing data\n",
        "import pandas as pd\n",
        "import os\n",
        "import csv\n",
        "\n",
        "from tqdm import tqdm\n",
        "\n",
        "import torch \n",
        "import torch.nn as nn\n",
        "from torch.utils.data import Dataset, DataLoader, random_split\n",
        "\n",
        "from torch.utils.tensorboard import SummaryWriter\n",
        "\n"
      ],
      "metadata": {
        "id": "y6hCwDp2hnku"
      },
      "execution_count": null,
      "outputs": []
    },
    {
      "cell_type": "markdown",
      "source": [
        "# Some Utility Functions\n",
        "\n",
        "You do not need to modify this part."
      ],
      "metadata": {
        "id": "fTAVqRfc2KK3"
      }
    },
    {
      "cell_type": "code",
      "source": [
        "def same_seed(seed): \n",
        "    '''Fixes random number generator seeds for reproducibility.'''\n",
        "    torch.backends.cudnn.deterministic = True\n",
        "    torch.backends.cudnn.benchmark = False\n",
        "    np.random.seed(seed)\n",
        "    torch.manual_seed(seed)\n",
        "    if torch.cuda.is_available():\n",
        "        torch.cuda.manual_seed_all(seed)\n",
        "\n",
        "\n",
        "def train_valid_split(data_set, valid_ratio, seed):\n",
        "   '''Split provided training data into training set and validation set'''\n",
        "   valid_set_size = int(valid_ratio * len(data_set))\n",
        "   train_set_size = len(data_set) - valid_set_size\n",
        "   train_set, valid_set = random_split(data_set, [train_set_size,valid_set_size],generator=torch.Generator().manual_seed(seed))\n",
        "   return np.array(train_set), np.array(valid_set)\n",
        "\n",
        "\n",
        "def predict(test_loader,model,device):\n",
        "  model.eval()\n",
        "  preds = []\n",
        "  for x in tqdm(test_loader):\n",
        "    x = x.to(device)\n",
        "    with torch.no_grad():\n",
        "      pred = model(x)\n",
        "      preds.append(pred.detach().cpu())\n",
        "  preds = torch.cat(preds,dim=0).numpy()\n",
        "  return preds\n"
      ],
      "metadata": {
        "id": "sjx5SvLuinYK"
      },
      "execution_count": null,
      "outputs": []
    },
    {
      "cell_type": "markdown",
      "metadata": {
        "id": "IqO3lTm78nNO"
      },
      "source": [
        "# Dataset"
      ]
    },
    {
      "cell_type": "code",
      "source": [
        "class COVID19Dataset(Dataset):\n",
        "    '''\n",
        "    x: Features.\n",
        "    y: Targets, if none, do prediction.\n",
        "    '''\n",
        "    def _init_(self,x,y=None):\n",
        "        if y is None:\n",
        "            self.y = y\n",
        "        else:\n",
        "            self.y = torch.FloatTensor(y)\n",
        "    self.x = torch.FloatTensor(x)\n",
        "    \n",
        "\n",
        "    def _getitem_(self,dix):\n",
        "        if self.y is None:\n",
        "            return self.x[idx]\n",
        "        else:\n",
        "            return self.x[idx],self.y[idx]\n",
        "\n",
        "    def _len_(self):\n",
        "        return len(self.x)"
      ],
      "metadata": {
        "id": "8Bkaqmj2BaKH"
      },
      "execution_count": null,
      "outputs": []
    },
    {
      "cell_type": "markdown",
      "source": [
        "# Neural Network Model\n",
        "Try out different model architectures by modifying the class below."
      ],
      "metadata": {
        "id": "m73ooU75CL_j"
      }
    },
    {
      "cell_type": "code",
      "source": [
        "class My_model(nn.Module):\n",
        "    def _init_(self,input_dim):\n",
        "        super(My_Model, self)._init_()\n",
        "        # TODO: modify model's structure, be aware of dimensions.\n",
        "        self.layers = nn.Sequential(\n",
        "            nn.Linear(input_dim,16),\n",
        "            nn.ReLU(),\n",
        "            nn.Linear(16,8),\n",
        "            nn.ReLU(),\n",
        "            nn.Linear(8,1)\n",
        "       )\n",
        "        \n",
        "\n",
        "    def forward(self,x):\n",
        "        x = self.layers(x)\n",
        "        x = x.squeeze(1)  # (B,1) -> (B)\n",
        "        return x"
      ],
      "metadata": {
        "id": "GegLafMsZIm7"
      },
      "execution_count": null,
      "outputs": []
    },
    {
      "cell_type": "markdown",
      "metadata": {
        "id": "x5-LKF6R8xeq"
      },
      "source": [
        "# Feature Selection\n",
        "Choose features you deem useful by modifying the function below."
      ]
    },
    {
      "cell_type": "code",
      "source": [
        "def select_feat(train_data, valid_data, test_data,select_all=True):\n",
        "    '''Select useful fearures to perform regression'''\n",
        "    y_train, y_valid = train_data[:,-1], valid_data[:,-1]\n",
        "    raw_x_train, raw_x_valid, raw_x_test = train_data[:,:-1], valid_data[:,:-1], test_data\n",
        "\n",
        "    if select_all:\n",
        "        feat_idx = list(range(raw_x_train.shape[1]))\n",
        "    else:\n",
        "        feat_idx = [0,1,2,3,4] # TODO: Select suitable feature columns.\n",
        "\n",
        "    return raw_x_train[:,feat_idx], raw_x_valid[:,feat_idx],raw_x_test[:,feat_idx],y_train,y_valid\n",
        "    "
      ],
      "metadata": {
        "id": "cFE7LZ8DZIrx"
      },
      "execution_count": null,
      "outputs": []
    },
    {
      "cell_type": "markdown",
      "source": [
        "#Train Loop"
      ],
      "metadata": {
        "id": "w_HN2zKkcuYS"
      }
    },
    {
      "cell_type": "code",
      "source": [
        "def trainer(train_loader,valid_loader,model,config,device):\n",
        "\n",
        "    criterion = nn.MSELoss(reduction='mean')  # Define your loss function, do not modify this.\n",
        "\n",
        "    # Define your optimization algorithm. \n",
        "    # TODO: Please check https://pytorch.org/docs/stable/optim.html to get more available algorithms.\n",
        "    # TODO: L2 regularization (optimizer(weight decay...) or implement by your self).\n",
        "    optimizer = torch.optim.SGD(model.parameters(),1r=config['learning_rate'],momentum=0.9)\n",
        "\n",
        "    writer = SummaryWriter()\n",
        "\n",
        "    if not os.path.isdir('./models'):\n",
        "        os.mkdir('./models') # Create directory of saveing models\n",
        "\n",
        "    n_epochs, best_loss, step, early_stop_count = config['n_epochs'], math.inf,0,0\n",
        "\n",
        "    for epoch in range(n_epochs):\n",
        "        model.train() # Set your model to train mode\n",
        "        loss_record = []\n",
        "\n",
        "        # tqmd is a package to visualize your training progress.\n",
        "        train_pbar = tqdm(train_loader,position=0,leave=True)\n",
        "\n",
        "        for x,y in train_pbar:\n",
        "            optimizer.zero_grad()             # Set gradient to zero.\n",
        "            x, y = x.to(device), y.to(device) # Move your data to device.\n",
        "            pred = model(x)\n",
        "            loss = criterion(pred,y)\n",
        "            loss.backward()                   # Compute gradient(backpropagation).\n",
        "            optimizer.step()                  # Updata parameters.\n",
        "            step += 1\n",
        "            loss_record.append(loss.detach().item())\n",
        "\n",
        "            # Display current epoch number and loss on tqdm progress bar.\n",
        "            train_pbar.set_description(f'Epoch [{epoch+1}/{n_epochs}]')\n",
        "            train_pbar.set_postfix('loss': loss.detach().item())\n",
        "\n",
        "        mean_train_loss = sum(loss_record)/len(loss_record)\n",
        "        writer.add_scalar('loss/train',mean_train_loss,step)\n",
        "\n",
        "\n",
        "        model.eval()  # Set your model to evaluation mode.\n",
        "        loss_record = []\n",
        "        for x,y in valid_loader:\n",
        "            x, y = x.to(device), y.to(device)\n",
        "            with torch.no_grad():\n",
        "                pred = model(x)\n",
        "                loss = criterion(pred,y)\n",
        "\n",
        "            loss_record.append(loss.item())\n",
        "\n",
        "        mean_valid_loss = sum(loss_record)/len(loss_record)\n",
        "        print(f'Epoch [{epoch+1}/{n_epochs}]: Train loss:{mean_train_loss:.4f},Valid loss: {mean_valid_loss:.4f}')\n",
        "        writer.add_scalar('Loss/valid',mean_valid_loss,step)\n",
        "\n",
        "        if mean_valid_loss < best_loss:\n",
        "            best_loss = mean_valid_loss\n",
        "            torch.save(model.state.dict(),config['save_path']) # save your best model\n",
        "            print('Save model with loss {:.3f}...'.format(best_loss))\n",
        "            early_stop_count = 0\n",
        "        else:\n",
        "            early_stop_count += 1\n",
        "\n",
        "        if early_stop_count >= config['early_stop']:\n",
        "        print('\\nModel is not improving, so we halt the training session.')\n",
        "        return\n",
        "\n"
      ],
      "metadata": {
        "id": "baXtVicKcxUb"
      },
      "execution_count": null,
      "outputs": []
    },
    {
      "cell_type": "markdown",
      "source": [
        "# Configurations\n",
        "`config` contains hyper-parameters for training and the path to save your model."
      ],
      "metadata": {
        "id": "nVpI4GH7kmN9"
      }
    },
    {
      "cell_type": "code",
      "source": [
        "device = 'cuda' if torch.cuda.is_available() else 'cpu'\n",
        "config = {\n",
        "    'seed': 5201314,      # Your seed number, you can pick your lucky number. :)\n",
        "    'select_all': True,   # Whether to use all features.\n",
        "    'valid_ratio': 0.2,   # validation_size = train_size * valid_ratio\n",
        "    'n_epochs': 100,      # Number of epochs.            \n",
        "    'batch_size': 256, \n",
        "    'learning_rate': 1e-5,              \n",
        "    'early_stop': 400,    # If model has not improved for this many consecutive epochs, stop training.     \n",
        "    'save_path': './models/model.ckpt'  # Your model will be saved here.\n",
        "}"
      ],
      "metadata": {
        "id": "9kYkeD4CkoBm"
      },
      "execution_count": null,
      "outputs": []
    }
  ]
}